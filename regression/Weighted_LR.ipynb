{
 "cells": [
  {
   "cell_type": "markdown",
   "id": "8c238b07",
   "metadata": {},
   "source": [
    "# Supervised Learning : Lesson 2 - Implementing Locally weighted Linear Regression to solve the problem of underfitting the data"
   ]
  },
  {
   "cell_type": "code",
   "execution_count": 1,
   "id": "63918186",
   "metadata": {},
   "outputs": [],
   "source": [
    "import numpy as np \n",
    "import pandas as pd \n",
    "import matplotlib.pyplot as plt \n"
   ]
  },
  {
   "cell_type": "markdown",
   "id": "29e0befa",
   "metadata": {},
   "source": [
    "## Loading the data "
   ]
  },
  {
   "cell_type": "code",
   "execution_count": 2,
   "id": "c25726e6",
   "metadata": {},
   "outputs": [],
   "source": [
    "df = pd.read_csv('USA_Housing.csv')"
   ]
  },
  {
   "cell_type": "code",
   "execution_count": 3,
   "id": "a9b2c443",
   "metadata": {},
   "outputs": [
    {
     "data": {
      "text/html": [
       "<div>\n",
       "<style scoped>\n",
       "    .dataframe tbody tr th:only-of-type {\n",
       "        vertical-align: middle;\n",
       "    }\n",
       "\n",
       "    .dataframe tbody tr th {\n",
       "        vertical-align: top;\n",
       "    }\n",
       "\n",
       "    .dataframe thead th {\n",
       "        text-align: right;\n",
       "    }\n",
       "</style>\n",
       "<table border=\"1\" class=\"dataframe\">\n",
       "  <thead>\n",
       "    <tr style=\"text-align: right;\">\n",
       "      <th></th>\n",
       "      <th>Avg. Area Income</th>\n",
       "      <th>Avg. Area House Age</th>\n",
       "      <th>Avg. Area Number of Rooms</th>\n",
       "      <th>Avg. Area Number of Bedrooms</th>\n",
       "      <th>Area Population</th>\n",
       "      <th>Price</th>\n",
       "      <th>Address</th>\n",
       "    </tr>\n",
       "  </thead>\n",
       "  <tbody>\n",
       "    <tr>\n",
       "      <th>0</th>\n",
       "      <td>79545.458574</td>\n",
       "      <td>5.682861</td>\n",
       "      <td>7.009188</td>\n",
       "      <td>4.09</td>\n",
       "      <td>23086.800503</td>\n",
       "      <td>1.059034e+06</td>\n",
       "      <td>208 Michael Ferry Apt. 674\\nLaurabury, NE 3701...</td>\n",
       "    </tr>\n",
       "    <tr>\n",
       "      <th>1</th>\n",
       "      <td>79248.642455</td>\n",
       "      <td>6.002900</td>\n",
       "      <td>6.730821</td>\n",
       "      <td>3.09</td>\n",
       "      <td>40173.072174</td>\n",
       "      <td>1.505891e+06</td>\n",
       "      <td>188 Johnson Views Suite 079\\nLake Kathleen, CA...</td>\n",
       "    </tr>\n",
       "    <tr>\n",
       "      <th>2</th>\n",
       "      <td>61287.067179</td>\n",
       "      <td>5.865890</td>\n",
       "      <td>8.512727</td>\n",
       "      <td>5.13</td>\n",
       "      <td>36882.159400</td>\n",
       "      <td>1.058988e+06</td>\n",
       "      <td>9127 Elizabeth Stravenue\\nDanieltown, WI 06482...</td>\n",
       "    </tr>\n",
       "    <tr>\n",
       "      <th>3</th>\n",
       "      <td>63345.240046</td>\n",
       "      <td>7.188236</td>\n",
       "      <td>5.586729</td>\n",
       "      <td>3.26</td>\n",
       "      <td>34310.242831</td>\n",
       "      <td>1.260617e+06</td>\n",
       "      <td>USS Barnett\\nFPO AP 44820</td>\n",
       "    </tr>\n",
       "    <tr>\n",
       "      <th>4</th>\n",
       "      <td>59982.197226</td>\n",
       "      <td>5.040555</td>\n",
       "      <td>7.839388</td>\n",
       "      <td>4.23</td>\n",
       "      <td>26354.109472</td>\n",
       "      <td>6.309435e+05</td>\n",
       "      <td>USNS Raymond\\nFPO AE 09386</td>\n",
       "    </tr>\n",
       "  </tbody>\n",
       "</table>\n",
       "</div>"
      ],
      "text/plain": [
       "   Avg. Area Income  Avg. Area House Age  Avg. Area Number of Rooms  \\\n",
       "0      79545.458574             5.682861                   7.009188   \n",
       "1      79248.642455             6.002900                   6.730821   \n",
       "2      61287.067179             5.865890                   8.512727   \n",
       "3      63345.240046             7.188236                   5.586729   \n",
       "4      59982.197226             5.040555                   7.839388   \n",
       "\n",
       "   Avg. Area Number of Bedrooms  Area Population         Price  \\\n",
       "0                          4.09     23086.800503  1.059034e+06   \n",
       "1                          3.09     40173.072174  1.505891e+06   \n",
       "2                          5.13     36882.159400  1.058988e+06   \n",
       "3                          3.26     34310.242831  1.260617e+06   \n",
       "4                          4.23     26354.109472  6.309435e+05   \n",
       "\n",
       "                                             Address  \n",
       "0  208 Michael Ferry Apt. 674\\nLaurabury, NE 3701...  \n",
       "1  188 Johnson Views Suite 079\\nLake Kathleen, CA...  \n",
       "2  9127 Elizabeth Stravenue\\nDanieltown, WI 06482...  \n",
       "3                          USS Barnett\\nFPO AP 44820  \n",
       "4                         USNS Raymond\\nFPO AE 09386  "
      ]
     },
     "execution_count": 3,
     "metadata": {},
     "output_type": "execute_result"
    }
   ],
   "source": [
    "df.head()"
   ]
  },
  {
   "cell_type": "code",
   "execution_count": 4,
   "id": "fda21ad9",
   "metadata": {},
   "outputs": [
    {
     "data": {
      "text/plain": [
       "Index(['Avg. Area Income', 'Avg. Area House Age', 'Avg. Area Number of Rooms',\n",
       "       'Avg. Area Number of Bedrooms', 'Area Population', 'Price', 'Address'],\n",
       "      dtype='object')"
      ]
     },
     "execution_count": 4,
     "metadata": {},
     "output_type": "execute_result"
    }
   ],
   "source": [
    "df.keys()"
   ]
  },
  {
   "cell_type": "code",
   "execution_count": 5,
   "id": "3811b53a",
   "metadata": {},
   "outputs": [],
   "source": [
    "df_sample = df[['Avg. Area Income', 'Avg. Area House Age', 'Avg. Area Number of Rooms',\n",
    "       'Avg. Area Number of Bedrooms', 'Price']]"
   ]
  },
  {
   "cell_type": "code",
   "execution_count": 9,
   "id": "5523ee5e",
   "metadata": {},
   "outputs": [],
   "source": [
    "X = df_sample.drop('Price', axis = 1)\n",
    "y = df_sample[['Price']]"
   ]
  },
  {
   "cell_type": "code",
   "execution_count": 10,
   "id": "406b50c3",
   "metadata": {},
   "outputs": [
    {
     "data": {
      "text/html": [
       "<div>\n",
       "<style scoped>\n",
       "    .dataframe tbody tr th:only-of-type {\n",
       "        vertical-align: middle;\n",
       "    }\n",
       "\n",
       "    .dataframe tbody tr th {\n",
       "        vertical-align: top;\n",
       "    }\n",
       "\n",
       "    .dataframe thead th {\n",
       "        text-align: right;\n",
       "    }\n",
       "</style>\n",
       "<table border=\"1\" class=\"dataframe\">\n",
       "  <thead>\n",
       "    <tr style=\"text-align: right;\">\n",
       "      <th></th>\n",
       "      <th>Avg. Area Income</th>\n",
       "      <th>Avg. Area House Age</th>\n",
       "      <th>Avg. Area Number of Rooms</th>\n",
       "      <th>Avg. Area Number of Bedrooms</th>\n",
       "    </tr>\n",
       "  </thead>\n",
       "  <tbody>\n",
       "    <tr>\n",
       "      <th>0</th>\n",
       "      <td>79545.458574</td>\n",
       "      <td>5.682861</td>\n",
       "      <td>7.009188</td>\n",
       "      <td>4.09</td>\n",
       "    </tr>\n",
       "    <tr>\n",
       "      <th>1</th>\n",
       "      <td>79248.642455</td>\n",
       "      <td>6.002900</td>\n",
       "      <td>6.730821</td>\n",
       "      <td>3.09</td>\n",
       "    </tr>\n",
       "    <tr>\n",
       "      <th>2</th>\n",
       "      <td>61287.067179</td>\n",
       "      <td>5.865890</td>\n",
       "      <td>8.512727</td>\n",
       "      <td>5.13</td>\n",
       "    </tr>\n",
       "    <tr>\n",
       "      <th>3</th>\n",
       "      <td>63345.240046</td>\n",
       "      <td>7.188236</td>\n",
       "      <td>5.586729</td>\n",
       "      <td>3.26</td>\n",
       "    </tr>\n",
       "    <tr>\n",
       "      <th>4</th>\n",
       "      <td>59982.197226</td>\n",
       "      <td>5.040555</td>\n",
       "      <td>7.839388</td>\n",
       "      <td>4.23</td>\n",
       "    </tr>\n",
       "  </tbody>\n",
       "</table>\n",
       "</div>"
      ],
      "text/plain": [
       "   Avg. Area Income  Avg. Area House Age  Avg. Area Number of Rooms  \\\n",
       "0      79545.458574             5.682861                   7.009188   \n",
       "1      79248.642455             6.002900                   6.730821   \n",
       "2      61287.067179             5.865890                   8.512727   \n",
       "3      63345.240046             7.188236                   5.586729   \n",
       "4      59982.197226             5.040555                   7.839388   \n",
       "\n",
       "   Avg. Area Number of Bedrooms  \n",
       "0                          4.09  \n",
       "1                          3.09  \n",
       "2                          5.13  \n",
       "3                          3.26  \n",
       "4                          4.23  "
      ]
     },
     "execution_count": 10,
     "metadata": {},
     "output_type": "execute_result"
    }
   ],
   "source": [
    "X.head()"
   ]
  },
  {
   "cell_type": "code",
   "execution_count": 11,
   "id": "d4538abb",
   "metadata": {},
   "outputs": [],
   "source": [
    "from sklearn.preprocessing import StandardScaler\n",
    "scaler = StandardScaler()\n",
    "X_scaler = scaler.fit_transform(X)\n",
    "y_scaler = scaler.fit_transform(y)"
   ]
  },
  {
   "cell_type": "code",
   "execution_count": 12,
   "id": "ba7f2065",
   "metadata": {},
   "outputs": [
    {
     "data": {
      "text/plain": [
       "array([[ 1.02865969, -0.29692705,  0.02127433,  0.08806222],\n",
       "       [ 1.00080775,  0.02590164, -0.25550611, -0.72230146],\n",
       "       [-0.68462916, -0.11230283,  1.5162435 ,  0.93084045],\n",
       "       ...,\n",
       "       [-0.48723454,  1.28447022, -2.17026949, -1.50025059],\n",
       "       [-0.05459152, -0.44669439,  0.14154061,  1.18205319],\n",
       "       [-0.28831272,  0.01521477, -0.19434166,  0.07185495]])"
      ]
     },
     "execution_count": 12,
     "metadata": {},
     "output_type": "execute_result"
    }
   ],
   "source": [
    "X_scaler"
   ]
  },
  {
   "cell_type": "code",
   "execution_count": 13,
   "id": "f27f80b6",
   "metadata": {},
   "outputs": [
    {
     "data": {
      "text/plain": [
       "array([[-0.49008146],\n",
       "       [ 0.77550829],\n",
       "       [-0.49021053],\n",
       "       ...,\n",
       "       [-0.570244  ],\n",
       "       [-0.0946402 ],\n",
       "       [ 0.18941143]])"
      ]
     },
     "execution_count": 13,
     "metadata": {},
     "output_type": "execute_result"
    }
   ],
   "source": [
    "y_scaler"
   ]
  },
  {
   "cell_type": "code",
   "execution_count": 15,
   "id": "680a646e",
   "metadata": {},
   "outputs": [
    {
     "data": {
      "text/plain": [
       "((5000, 4), (5000, 1))"
      ]
     },
     "execution_count": 15,
     "metadata": {},
     "output_type": "execute_result"
    }
   ],
   "source": [
    "X_scaler.shape , y_scaler.shape"
   ]
  },
  {
   "cell_type": "code",
   "execution_count": 17,
   "id": "5b459e70",
   "metadata": {},
   "outputs": [],
   "source": [
    "# Shuffling the dataset \n",
    "np.random.seed(42)\n",
    "# Now we will split the dataset into training and testing sets\n",
    "rng = np.random.default_rng(seed=42) # creating a random number generator object\n",
    "idx = rng.permutation(X_scaler.shape[0]) # generating a random permutation of indices\n",
    "train_ratio = 0.8"
   ]
  },
  {
   "cell_type": "code",
   "execution_count": 19,
   "id": "f40084cf",
   "metadata": {},
   "outputs": [],
   "source": [
    "train_samples = int(train_ratio * X_scaler.shape[0]) # number of trianing samples"
   ]
  },
  {
   "cell_type": "code",
   "execution_count": 21,
   "id": "53cf53d7",
   "metadata": {},
   "outputs": [],
   "source": [
    "train_idx, test_idx = idx[:train_samples], idx[train_samples:] # splitting the indices into training and testing sets\n",
    "X_train, y_train = X_scaler[train_idx], y_scaler[train_idx]\n",
    "X_test,  y_test  = X_scaler[test_idx],  y_scaler[test_idx]"
   ]
  },
  {
   "cell_type": "markdown",
   "id": "08b4ff9e",
   "metadata": {},
   "source": [
    "## Equations and the operations involved in LWR"
   ]
  },
  {
   "cell_type": "markdown",
   "id": "01eb0b15",
   "metadata": {},
   "source": [
    "### Calculating the weights"
   ]
  },
  {
   "attachments": {
    "image.png": {
     "image/png": "[encoded data removed]"
    }
   },
   "cell_type": "markdown",
   "id": "427d4262",
   "metadata": {},
   "source": [
    "![image.png](attachment:image.png)"
   ]
  },
  {
   "cell_type": "code",
   "execution_count": 28,
   "id": "0630ab87",
   "metadata": {},
   "outputs": [],
   "source": [
    "# Weight function \n",
    "\n",
    "def get_weights(X , x_query , tau):\n",
    "    \"\"\"\n",
    "    This function is calculating the weight for each query \n",
    "\n",
    "    X: training features , shape(n,d)\n",
    "    x_query: single query point , shape(d,)\n",
    "    tau : bandwith paremeter(think of it like a context window)\n",
    "    returns : diagonal weight matrix W , shape(n,n)\n",
    "    \"\"\"\n",
    "\n",
    "    m = X.shape[0]\n",
    "    W = np.eye(m) # diagonal matrix of 1'\n",
    "\n",
    "    for i in range(m):\n",
    "        diff = X[i] - x_query\n",
    "        W[i,i] = np.exp(-(diff @ diff.T) / (2* tau**2))\n",
    "\n",
    "    return W"
   ]
  },
  {
   "attachments": {
    "image.png": {
     "image/png": "[encoded data removed]"
    }
   },
   "cell_type": "markdown",
   "id": "24601c1b",
   "metadata": {},
   "source": [
    "### Now we will use the equation to find the theta to minimise our J(theta) function\n",
    "![image.png](attachment:image.png)"
   ]
  },
  {
   "cell_type": "code",
   "execution_count": 30,
   "id": "6b52ef89",
   "metadata": {},
   "outputs": [],
   "source": [
    "def fit_theta(X,y,x_query, tau):\n",
    "    \"\"\"\n",
    "    X: training features with bias column, shape (n, d)\n",
    "    y: target vector, shape (n, 1)\n",
    "    x_query: query point (d,)\n",
    "    tau: bandwidth\n",
    "    returns: theta for this local regression\n",
    "\n",
    "    \"\"\"\n",
    "    W = get_weights(X,x_query, tau)\n",
    "    XTWX = X.T @ W @ X\n",
    "    XTWy = X.T @ W @ y\n",
    "\n",
    "    theta = np.linalg.pinv(XTWX) @ XTWy\n",
    "    return theta"
   ]
  },
  {
   "cell_type": "markdown",
   "id": "e81c5a37",
   "metadata": {},
   "source": [
    "### Now we make the prediction "
   ]
  },
  {
   "cell_type": "code",
   "execution_count": 32,
   "id": "43047946",
   "metadata": {},
   "outputs": [],
   "source": [
    "# 3. Predict for a query point\n",
    "def predict_lwr(X, y, x_query, tau):\n",
    "    \"\"\"\n",
    "    Predict y_hat at query point x_query\n",
    "    \"\"\"\n",
    "    theta = fit_theta(X, y, x_query, tau)\n",
    "    return x_query @ theta\n"
   ]
  },
  {
   "cell_type": "code",
   "execution_count": 34,
   "id": "92439b39",
   "metadata": {},
   "outputs": [],
   "source": [
    "def lwr_predict(X, y, X_test, tau):\n",
    "    \"\"\"\n",
    "    Run LWR for each query point in X_test\n",
    "    \"\"\"\n",
    "    y_pred = []\n",
    "    for x_q in X_test:\n",
    "        y_hat = predict_lwr(X, y, x_q, tau)\n",
    "        y_pred.append(y_hat)\n",
    "    return np.array(y_pred)"
   ]
  },
  {
   "cell_type": "code",
   "execution_count": 35,
   "id": "53b95c84",
   "metadata": {},
   "outputs": [
    {
     "name": "stdout",
     "output_type": "stream",
     "text": [
      "[[-0.19261274]\n",
      " [-0.25128392]\n",
      " [ 1.42523129]\n",
      " [-0.32770653]\n",
      " [-1.01258729]]\n"
     ]
    }
   ],
   "source": [
    "# Example usage\n",
    "tau = 0.5  # bandwidth\n",
    "y_pred = lwr_predict(X_train, y_train, X_test, tau)\n",
    "\n",
    "print(y_pred[:5])  # first few predictions\n"
   ]
  },
  {
   "cell_type": "code",
   "execution_count": 37,
   "id": "ac70e5d1",
   "metadata": {},
   "outputs": [
    {
     "name": "stdout",
     "output_type": "stream",
     "text": [
      "MSE: 0.2583\n",
      "MAE: 0.4034\n",
      "R²:  0.7269\n"
     ]
    }
   ],
   "source": [
    "from sklearn.metrics import mean_squared_error, mean_absolute_error, r2_score\n",
    "\n",
    "# Evaluate predictions\n",
    "mse = mean_squared_error(y_test, y_pred)\n",
    "mae = mean_absolute_error(y_test, y_pred)\n",
    "r2 = r2_score(y_test, y_pred)\n",
    "\n",
    "print(f\"MSE: {mse:.4f}\")\n",
    "print(f\"MAE: {mae:.4f}\")\n",
    "print(f\"R²:  {r2:.4f}\")\n"
   ]
  },
  {
   "cell_type": "code",
   "execution_count": 40,
   "id": "35a19c19",
   "metadata": {},
   "outputs": [
    {
     "name": "stdout",
     "output_type": "stream",
     "text": [
      "          Method       MSE       MAE        R²    Time (s)\n",
      "0       Batch GD  0.599815  0.624936  0.365758    0.026416\n",
      "1            SGD  0.545977  0.595696  0.422686   17.668232\n",
      "2  Mini-batch GD  0.545068  0.594911  0.423647    0.903366\n",
      "3            LWR  0.258300  0.403400  0.726900  106.000000\n"
     ]
    },
    {
     "data": {
      "image/png": "[encoded data removed]",
      "text/plain": [
       "<Figure size 1200x500 with 2 Axes>"
      ]
     },
     "metadata": {},
     "output_type": "display_data"
    }
   ],
   "source": [
    "import pandas as pd\n",
    "import matplotlib.pyplot as plt\n",
    "\n",
    "# Results dictionary\n",
    "results = {\n",
    "    \"Method\": [\"Batch GD\", \"SGD\", \"Mini-batch GD\", \"LWR\"],\n",
    "    \"MSE\": [0.599815, 0.545977, 0.545068, 0.2583],\n",
    "    \"MAE\": [0.624936, 0.595696, 0.594911, 0.4034],\n",
    "    \"R²\":  [0.365758, 0.422686, 0.423647, 0.7269],\n",
    "    \"Time (s)\": [0.026416, 17.668232, 0.903366, 106]  # 1min 46s ≈ 106s\n",
    "}\n",
    "\n",
    "# Convert to DataFrame\n",
    "df_results = pd.DataFrame(results)\n",
    "print(df_results)\n",
    "\n",
    "# --- Visualization ---\n",
    "fig, axes = plt.subplots(1, 2, figsize=(12, 5))\n",
    "\n",
    "# Performance metrics\n",
    "df_results.set_index(\"Method\")[[\"MSE\", \"MAE\", \"R²\"]].plot(kind=\"bar\", ax=axes[0])\n",
    "axes[0].set_title(\"Performance Comparison\")\n",
    "axes[0].set_ylabel(\"Score\")\n",
    "axes[0].grid(axis=\"y\", linestyle=\"--\", alpha=0.7)\n",
    "\n",
    "# Time comparison\n",
    "df_results.set_index(\"Method\")[[\"Time (s)\"]].plot(kind=\"bar\", ax=axes[1], color=\"orange\")\n",
    "axes[1].set_title(\"Computation Time Comparison\")\n",
    "axes[1].set_ylabel(\"Seconds\")\n",
    "axes[1].grid(axis=\"y\", linestyle=\"--\", alpha=0.7)\n",
    "\n",
    "plt.tight_layout()\n",
    "plt.show()\n"
   ]
  },
  {
   "cell_type": "markdown",
   "id": "de4863ac",
   "metadata": {},
   "source": [
    "## Comparison "
   ]
  },
  {
   "cell_type": "markdown",
   "id": "84f0ca9d",
   "metadata": {},
   "source": [
    "Accuracy side:\n",
    "* LWR is clearly the best in terms of accuracy:\n",
    "* Lowest MSE (0.2583) → smallest squared errors.\n",
    "* Lowest MAE (0.4034) → smallest average error.\n",
    "* Highest R² (0.727) → explains ~73% of the variance in housing prices (vs only ~42% for linear regression).\n",
    "\n",
    "So if accuracy is the only goal, LWR wins.\n",
    "\n",
    "Time side:\n",
    "* Batch GD is insanely fast (0.026s).\n",
    "* LWR is very slow (106s).\n",
    "* SGD is the slowest among gradient-based methods because it updates weights for each sample. Mini-batch is the compromise.\n",
    "\n",
    "So if speed matters, Batch GD wins.\n",
    "\n",
    "The trade-off:\n",
    "* LWR = high accuracy, slow (non-parametric, needs to re-fit for every query point).\n",
    "* Batch GD = fast, but less accurate (parametric, once trained you’re done).\n",
    "\n",
    "So the “best” depends on the situation:\n",
    "* If you want interpretability + deployment on large-scale data, use Batch GD or Mini-batch.\n",
    "* If you want local accuracy in small datasets (where speed doesn’t matter much), LWR is better."
   ]
  },
  {
   "cell_type": "markdown",
   "id": "39c4a022",
   "metadata": {},
   "source": [
    "## CONS \n",
    "Locally Weighted Regression is slow compared to ordinary least squares.\n",
    "Here’s why:\n",
    "\n",
    "In OLS, you solve the normal weighted equation once.\n",
    "\n",
    "➝ That means prediction is as expensive as re-training for each new point.\n",
    "➝ Time complexity: O(n³) per query if naïve, though with optimizations (no full inversion, matrix tricks) it can be brought down a bit."
   ]
  },
  {
   "cell_type": "code",
   "execution_count": null,
   "id": "09045a8b",
   "metadata": {},
   "outputs": [],
   "source": []
  }
 ],
 "metadata": {
  "kernelspec": {
   "display_name": "torch_env",
   "language": "python",
   "name": "python3"
  },
  "language_info": {
   "codemirror_mode": {
    "name": "ipython",
    "version": 3
   },
   "file_extension": ".py",
   "mimetype": "text/x-python",
   "name": "python",
   "nbconvert_exporter": "python",
   "pygments_lexer": "ipython3",
   "version": "3.12.8"
  }
 },
 "nbformat": 4,
 "nbformat_minor": 5
}
